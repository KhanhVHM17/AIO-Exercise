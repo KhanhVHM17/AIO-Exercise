{
 "cells": [
  {
   "cell_type": "markdown",
   "metadata": {},
   "source": [
    "# Q1"
   ]
  },
  {
   "cell_type": "code",
   "execution_count": 1,
   "metadata": {},
   "outputs": [],
   "source": [
    "def classification_report(tp, fp, fn):\n",
    "    if not isinstance(tp, int):\n",
    "        print('tp must be int')\n",
    "        return\n",
    "    if not isinstance(fp, int):\n",
    "        print('fp must be int')\n",
    "        return\n",
    "    if not isinstance(fn, int):\n",
    "        print('fn must be int')\n",
    "        return\n",
    "    if tp <=0 or fp <=0 or fn <=0:\n",
    "        print('tp and fp and fn must be greater than zero')\n",
    "        return\n",
    "    precision = tp/(tp + fp)\n",
    "    recall = tp/(tp + fn)\n",
    "    f1_score = 2*(precision*recall)/(precision+recall)\n",
    "    print(f'precision is {precision}')\n",
    "    print(f'recall is {recall}')\n",
    "    print(f'f1_score is {f1_score}')"
   ]
  },
  {
   "cell_type": "markdown",
   "metadata": {},
   "source": [
    "Test case"
   ]
  },
  {
   "cell_type": "code",
   "execution_count": 2,
   "metadata": {},
   "outputs": [
    {
     "name": "stdout",
     "output_type": "stream",
     "text": [
      "precision is 0.4\n",
      "recall is 0.3333333333333333\n",
      "f1_score is 0.3636363636363636\n"
     ]
    }
   ],
   "source": [
    "# test case 1:\n",
    "classification_report(tp=2, fp=3, fn=4)"
   ]
  },
  {
   "cell_type": "code",
   "execution_count": 3,
   "metadata": {},
   "outputs": [
    {
     "name": "stdout",
     "output_type": "stream",
     "text": [
      "tp must be int\n"
     ]
    }
   ],
   "source": [
    "# test cast 2:\n",
    "classification_report(tp='a', fp=3, fn=4)"
   ]
  },
  {
   "cell_type": "code",
   "execution_count": 4,
   "metadata": {},
   "outputs": [
    {
     "name": "stdout",
     "output_type": "stream",
     "text": [
      "tp and fp and fn must be greater than zero\n"
     ]
    }
   ],
   "source": [
    "# test case 3:\n",
    "classification_report(tp=2, fp=3, fn=0)"
   ]
  },
  {
   "cell_type": "markdown",
   "metadata": {},
   "source": [
    "# Q2"
   ]
  },
  {
   "cell_type": "code",
   "execution_count": 5,
   "metadata": {},
   "outputs": [],
   "source": [
    "import math\n",
    "\n",
    "def sigmoid_function(x):\n",
    "    y = 1/(1+math.exp(-x))\n",
    "    return y\n",
    "\n",
    "def relu_function(x):\n",
    "    if x <= 0:\n",
    "        y = 0\n",
    "    else:\n",
    "        y = x\n",
    "    return y\n",
    "\n",
    "def elu_function(x, alpha=0.01):\n",
    "    if x <= 0:\n",
    "        y = alpha*(math.exp(x)-1)\n",
    "    else:\n",
    "        y = x\n",
    "    return y\n",
    "\n",
    "def is_number(x):\n",
    "    try:\n",
    "        float(x)\n",
    "    except ValueError:\n",
    "        return False\n",
    "    return True\n",
    "\n",
    "def activate_function():\n",
    "    x = input('Input x: ')\n",
    "    print(f'Input x: {x}')\n",
    "    if is_number(x) == False:\n",
    "        print('x must be a number')\n",
    "        return\n",
    "    x = float(x)\n",
    "    func_name = input('Input activation Function (sigmoid|relu|elu): ')\n",
    "    print(f'Input activation Function (sigmoid|relu|elu): {func_name}')\n",
    "    if func_name not in ('sigmoid', 'relu', 'elu'):\n",
    "        print(f'{func_name} is not supportted')\n",
    "        return\n",
    "    if func_name == 'sigmoid':\n",
    "        y = sigmoid_function(x)\n",
    "    elif func_name == 'relu':\n",
    "        y = relu_function(x)\n",
    "    elif func_name == 'elu':\n",
    "        y = elu_function(x, alpha=0.01)\n",
    "    print(f'{func_name}: f({x}) = {y}')"
   ]
  },
  {
   "cell_type": "markdown",
   "metadata": {},
   "source": [
    "Test case"
   ]
  },
  {
   "cell_type": "code",
   "execution_count": 6,
   "metadata": {},
   "outputs": [
    {
     "name": "stdout",
     "output_type": "stream",
     "text": [
      "Input x: 1.5\n",
      "Input activation Function (sigmoid|relu|elu): sigmoid\n",
      "sigmoid: f(1.5) = 0.8175744761936437\n"
     ]
    }
   ],
   "source": [
    "# test case 1:\n",
    "activate_function()"
   ]
  },
  {
   "cell_type": "code",
   "execution_count": 7,
   "metadata": {},
   "outputs": [
    {
     "name": "stdout",
     "output_type": "stream",
     "text": [
      "Input x: abc\\\n",
      "x must be a number\n"
     ]
    }
   ],
   "source": [
    "# test case 2:\n",
    "activate_function()"
   ]
  },
  {
   "cell_type": "code",
   "execution_count": 8,
   "metadata": {},
   "outputs": [
    {
     "name": "stdout",
     "output_type": "stream",
     "text": [
      "Input x: 1.5\n",
      "Input activation Function (sigmoid|relu|elu): bulu\n",
      "bulu is not supportted\n"
     ]
    }
   ],
   "source": [
    "# test case 3:\n",
    "activate_function()"
   ]
  },
  {
   "cell_type": "markdown",
   "metadata": {},
   "source": [
    "# Q3"
   ]
  },
  {
   "cell_type": "code",
   "execution_count": 9,
   "metadata": {},
   "outputs": [],
   "source": [
    "import random\n",
    "def reg_loss_function():\n",
    "    num_sample = input('Input number of samples (integer number) which are generated: ')\n",
    "    print(f'Input number of samples (integer number) which are generated: {num_sample}')\n",
    "    if not num_sample.isnumeric():\n",
    "        print('number of samples must be an integer number')\n",
    "        return\n",
    "    num_sample = int(num_sample)\n",
    "    loss_name = input('Input loss name (MAE|MSE|RMSE): ')\n",
    "    if loss_name not in ('MAE', 'MSE', 'RMSE'):\n",
    "        print(f'{loss_name} is not supported')\n",
    "        return\n",
    "    predictions = [random.uniform(0, 10) for i in range(num_sample)]\n",
    "    targets = [random.uniform(0, 10) for i in range(num_sample)]\n",
    "    loss_val = []\n",
    "    for i, (p, t) in enumerate(zip(predictions, targets)):\n",
    "        if loss_name == 'MAE':\n",
    "            loss = abs(p-t)\n",
    "        elif loss_name == 'MSE':\n",
    "            loss = (p-t)**2\n",
    "        elif loss_name == 'RMSE':\n",
    "            loss = (p-t)**2\n",
    "        loss_val.append(loss)\n",
    "        print(f'loss name: {loss_name}, sample: {i}, pred: {p}, target: {t}, loss: {loss}')\n",
    "    final_loss = math.sqrt(sum(loss_val)/num_sample)\n",
    "    print(f'final {loss_name}: {final_loss}')"
   ]
  },
  {
   "cell_type": "markdown",
   "metadata": {},
   "source": [
    "Test case"
   ]
  },
  {
   "cell_type": "code",
   "execution_count": 10,
   "metadata": {},
   "outputs": [
    {
     "name": "stdout",
     "output_type": "stream",
     "text": [
      "Input number of samples (integer number) which are generated: 5\n",
      "loss name: RMSE, sample: 0, pred: 7.804720986056793, target: 5.026398870550096, loss: 7.719073777513607\n",
      "loss name: RMSE, sample: 1, pred: 3.436110919901685, target: 3.1186849652943662, loss: 0.10075923665836749\n",
      "loss name: RMSE, sample: 2, pred: 4.523304357992366, target: 5.722271180911732, loss: 1.4375214424613583\n",
      "loss name: RMSE, sample: 3, pred: 0.6440905028206545, target: 2.7710533790237, loss: 4.523971076745934\n",
      "loss name: RMSE, sample: 4, pred: 9.475402260023943, target: 0.15671903554095978, loss: 86.83785703826057\n",
      "final RMSE: 4.48595993231415\n"
     ]
    }
   ],
   "source": [
    "# test case 1:\n",
    "reg_loss_function()"
   ]
  },
  {
   "cell_type": "code",
   "execution_count": 11,
   "metadata": {},
   "outputs": [
    {
     "name": "stdout",
     "output_type": "stream",
     "text": [
      "Input number of samples (integer number) which are generated: aa\n",
      "number of samples must be an integer number\n"
     ]
    }
   ],
   "source": [
    "# test case 2:\n",
    "reg_loss_function()"
   ]
  },
  {
   "cell_type": "markdown",
   "metadata": {},
   "source": [
    "# Q4"
   ]
  },
  {
   "cell_type": "code",
   "execution_count": 12,
   "metadata": {},
   "outputs": [],
   "source": [
    "def factorial(n):\n",
    "    if n == 0:\n",
    "        return 1\n",
    "    else:\n",
    "        result = 1\n",
    "        for i in range(1, n+1):\n",
    "            result *= i\n",
    "        return result\n",
    "    \n",
    "def sin_function(x, n):\n",
    "    result = 0\n",
    "    for i in range(n):\n",
    "        result += (-1)**i * x**(2*i+1)/factorial(2*i+1)\n",
    "    return result\n",
    "\n",
    "def cos_function(x, n):\n",
    "    result = 0\n",
    "    for i in range(n):\n",
    "        result += (-1)**i * x**(2*i)/factorial(2*i)\n",
    "    return result\n",
    "\n",
    "def sinh_function(x, n):\n",
    "    result = 0\n",
    "    for i in range(n):\n",
    "        result += x**(2*i+1)/factorial(2*i+1)\n",
    "    return result\n",
    "\n",
    "def cosh_function(x, n):\n",
    "    result = 0\n",
    "    for i in range(n):\n",
    "        result += x**(2*i)/factorial(2*i)\n",
    "    return result"
   ]
  },
  {
   "cell_type": "markdown",
   "metadata": {},
   "source": [
    "Test case"
   ]
  },
  {
   "cell_type": "code",
   "execution_count": 13,
   "metadata": {},
   "outputs": [
    {
     "name": "stdout",
     "output_type": "stream",
     "text": [
      "sin calc: 0.001592652393160744\n",
      "cos_calc: -0.9999987352210833\n",
      "sinh calc: 11.530292029865986\n",
      "cosh calc: 11.573574824666185\n"
     ]
    }
   ],
   "source": [
    "x, n = 3.14, 10\n",
    "print(f'sin calc: {sin_function(x, n)}')\n",
    "print(f'cos_calc: {cos_function(x, n)}')\n",
    "print(f'sinh calc: {sinh_function(x, n)}')\n",
    "print(f'cosh calc: {cosh_function(x, n)}')"
   ]
  },
  {
   "cell_type": "markdown",
   "metadata": {},
   "source": [
    "# Q5"
   ]
  },
  {
   "cell_type": "code",
   "execution_count": 14,
   "metadata": {},
   "outputs": [],
   "source": [
    "def md_nre_single_sample(y, y_hat, n, p):\n",
    "    return (y**(1/n)-y_hat**(1/n))**p"
   ]
  },
  {
   "cell_type": "code",
   "execution_count": 15,
   "metadata": {},
   "outputs": [
    {
     "name": "stdout",
     "output_type": "stream",
     "text": [
      "y = 100, y_hat = 99.5, MD_nRE = 0.025031328369998107\n",
      "y = 50, y_hat = 49.5, MD_nRE = 0.03544417213033135\n",
      "y = 20, y_hat = 19.5, MD_nRE = 0.05625552183565574\n",
      "y = 5.5, y_hat = 5.0, MD_nRE = 0.10913990241192506\n",
      "y = 1.0, y_hat = 0.5, MD_nRE = 0.2928932188134524\n",
      "y = 0.6, y_hat = 0.1, MD_nRE = 0.45836890322464546\n"
     ]
    }
   ],
   "source": [
    "y = [100, 50, 20, 5.5, 1.0, 0.6]\n",
    "y_hat = [99.5, 49.5, 19.5, 5.0, 0.5, 0.1]\n",
    "n = 2\n",
    "p = 1\n",
    "for i, (y1, y2) in enumerate(zip(y, y_hat)):\n",
    "    print(f'y = {y1}, y_hat = {y2}, MD_nRE = {md_nre_single_sample(y1, y2, n, p)}')"
   ]
  }
 ],
 "metadata": {
  "kernelspec": {
   "display_name": "fptu",
   "language": "python",
   "name": "python3"
  },
  "language_info": {
   "codemirror_mode": {
    "name": "ipython",
    "version": 3
   },
   "file_extension": ".py",
   "mimetype": "text/x-python",
   "name": "python",
   "nbconvert_exporter": "python",
   "pygments_lexer": "ipython3",
   "version": "3.8.19"
  }
 },
 "nbformat": 4,
 "nbformat_minor": 2
}
