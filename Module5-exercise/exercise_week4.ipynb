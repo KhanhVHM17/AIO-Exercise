{
  "nbformat": 4,
  "nbformat_minor": 0,
  "metadata": {
    "colab": {
      "provenance": [],
      "gpuType": "T4"
    },
    "kernelspec": {
      "name": "python3",
      "display_name": "Python 3"
    },
    "language_info": {
      "name": "python"
    },
    "accelerator": "GPU"
  },
  "cells": [
    {
      "cell_type": "code",
      "execution_count": 44,
      "metadata": {
        "id": "A1Y0_4JwqayO"
      },
      "outputs": [],
      "source": [
        "import numpy as np"
      ]
    },
    {
      "cell_type": "markdown",
      "source": [
        "Q1"
      ],
      "metadata": {
        "id": "Ydv5jSTetQqQ"
      }
    },
    {
      "cell_type": "code",
      "source": [
        "def df_w(W):\n",
        "    dw1 = 0.2 * W[0]\n",
        "    dw2 = 4 * W[1]\n",
        "    dW = np.array([dw1, dw2])\n",
        "    return dW\n",
        "\n",
        "def sgd(W, dW, lr):\n",
        "    W = W - lr * dW\n",
        "    return W\n",
        "\n",
        "def train_p1(optimizer, lr, epochs):\n",
        "    W = np.array([-5, -2], dtype=np.float32)\n",
        "    results = [W]\n",
        "    for epoch in range(epochs):\n",
        "        dW = df_w(W)\n",
        "        W = optimizer(W, dW, lr)\n",
        "        results.append(W)\n",
        "    return results\n",
        "\n",
        "train_p1(sgd, lr=0.4, epochs=30)"
      ],
      "metadata": {
        "colab": {
          "base_uri": "https://localhost:8080/"
        },
        "id": "mRPwZrK_rHKw",
        "outputId": "5d112de0-d1cc-409e-d6fe-7f4e62557dd6"
      },
      "execution_count": 45,
      "outputs": [
        {
          "output_type": "execute_result",
          "data": {
            "text/plain": [
              "[array([-5., -2.], dtype=float32),\n",
              " array([-4.6,  1.2]),\n",
              " array([-4.232, -0.72 ]),\n",
              " array([-3.89344,  0.432  ]),\n",
              " array([-3.5819648, -0.2592   ]),\n",
              " array([-3.29540762,  0.15552   ]),\n",
              " array([-3.03177501, -0.093312  ]),\n",
              " array([-2.78923301,  0.0559872 ]),\n",
              " array([-2.56609437, -0.03359232]),\n",
              " array([-2.36080682,  0.02015539]),\n",
              " array([-2.17194227, -0.01209324]),\n",
              " array([-1.99818689,  0.00725594]),\n",
              " array([-1.83833194, -0.00435356]),\n",
              " array([-1.69126538,  0.00261214]),\n",
              " array([-1.55596415, -0.00156728]),\n",
              " array([-1.43148702e+00,  9.40369969e-04]),\n",
              " array([-1.31696806e+00, -5.64221981e-04]),\n",
              " array([-1.21161061e+00,  3.38533189e-04]),\n",
              " array([-1.11468176e+00, -2.03119913e-04]),\n",
              " array([-1.02550722e+00,  1.21871948e-04]),\n",
              " array([-9.43466646e-01, -7.31231688e-05]),\n",
              " array([-8.67989314e-01,  4.38739013e-05]),\n",
              " array([-7.98550169e-01, -2.63243408e-05]),\n",
              " array([-7.34666155e-01,  1.57946045e-05]),\n",
              " array([-6.75892863e-01, -9.47676268e-06]),\n",
              " array([-6.21821434e-01,  5.68605761e-06]),\n",
              " array([-5.72075719e-01, -3.41163456e-06]),\n",
              " array([-5.26309662e-01,  2.04698074e-06]),\n",
              " array([-4.84204889e-01, -1.22818844e-06]),\n",
              " array([-4.45468498e-01,  7.36913066e-07]),\n",
              " array([-4.09831018e-01, -4.42147839e-07])]"
            ]
          },
          "metadata": {},
          "execution_count": 45
        }
      ]
    },
    {
      "cell_type": "markdown",
      "source": [
        "Q2"
      ],
      "metadata": {
        "id": "y1vFxL-WtSNq"
      }
    },
    {
      "cell_type": "code",
      "source": [
        "def df_w(W):\n",
        "    dw1 = 0.2 * W[0]\n",
        "    dw2 = 4 * W[1]\n",
        "    dW = np.array([dw1, dw2])\n",
        "    return dW\n",
        "\n",
        "def sgd_momentum(W, dW, lr, V, beta):\n",
        "    V = beta * V + (1 - beta) * dW\n",
        "    W = W - lr * V\n",
        "    return W, V\n",
        "\n",
        "def train_p1(optimizer, lr, epochs):\n",
        "    W = np.array([-5, -2], dtype=np.float32)\n",
        "    V = np.array([0, 0], dtype=np.float32)\n",
        "    results = [W]\n",
        "    for epoch in range(epochs):\n",
        "        dW = df_w(W)\n",
        "        W, V = optimizer(W, dW, lr, V, beta=0.5)\n",
        "        results.append(W)\n",
        "    return results\n",
        "\n",
        "train_p1(sgd_momentum, lr=0.6, epochs=30)"
      ],
      "metadata": {
        "colab": {
          "base_uri": "https://localhost:8080/"
        },
        "id": "fm-9q44mtOl1",
        "outputId": "dcc041fd-0eda-4028-c7bf-970cff1af272"
      },
      "execution_count": 46,
      "outputs": [
        {
          "output_type": "execute_result",
          "data": {
            "text/plain": [
              "[array([-5., -2.], dtype=float32),\n",
              " array([-4.7,  0.4]),\n",
              " array([-4.268,  1.12 ]),\n",
              " array([-3.79592,  0.136  ]),\n",
              " array([-3.3321248, -0.5192   ]),\n",
              " array([-2.90029971, -0.22376   ]),\n",
              " array([-2.51036919,  0.192472  ]),\n",
              " array([-2.16478177,  0.1696216 ]),\n",
              " array([-1.86210116, -0.04534952]),\n",
              " array([-1.59903478, -0.09841566]),\n",
              " array([-1.37155951, -0.00684994]),\n",
              " array([-1.1755283 ,  0.04715285]),\n",
              " array([-1.006981  ,  0.01757082]),\n",
              " array([-0.86228849, -0.01830518]),\n",
              " array([-0.73820492, -0.01427696]),\n",
              " array([-0.63187084,  0.0048695 ]),\n",
              " array([-0.54079155,  0.00859933]),\n",
              " array([-4.62804416e-01,  1.45050014e-04]),\n",
              " array([-0.39604258, -0.00425615]),\n",
              " array([-0.33889911, -0.00134937]),\n",
              " array([-0.28999343,  0.00172326]),\n",
              " array([-0.24814098,  0.00119166]),\n",
              " array([-0.2123263 , -0.00050413]),\n",
              " array([-0.18167938, -0.00074707]),\n",
              " array([-1.55455157e-01,  2.79448010e-05]),\n",
              " array([-0.13301574,  0.00038192]),\n",
              " array([-1.13815082e-01,  1.00603444e-04]),\n",
              " array([-0.09738585, -0.00016078]),\n",
              " array([-8.33280829e-02, -9.85353344e-05]),\n",
              " array([-7.12995144e-02,  5.08287536e-05]),\n",
              " array([-6.10072592e-02,  6.45162933e-05])]"
            ]
          },
          "metadata": {},
          "execution_count": 46
        }
      ]
    },
    {
      "cell_type": "markdown",
      "source": [
        "Q3"
      ],
      "metadata": {
        "id": "2NmZLFq8wPBz"
      }
    },
    {
      "cell_type": "code",
      "source": [
        "def df_w(W):\n",
        "    dw1 = 0.2 * W[0]\n",
        "    dw2 = 4 * W[1]\n",
        "    dW = np.array([dw1, dw2])\n",
        "    return dW\n",
        "\n",
        "def RMSProp(W, dW, lr, S, gamma):\n",
        "    epsilon = 1e-6\n",
        "    S = gamma * S + (1 - gamma) * dW**2\n",
        "    W = W - lr * dW / (np.sqrt(S) + epsilon)\n",
        "    return W, S\n",
        "\n",
        "def train_p1(optimizer, lr, epochs):\n",
        "    W = np.array([-5, -2], dtype=np.float32)\n",
        "    S = np.array([0, 0], dtype=np.float32)\n",
        "    results = [W]\n",
        "    for epoch in range(epochs):\n",
        "        dW = df_w(W)\n",
        "        W, S = optimizer(W, dW, lr, S, gamma=0.9)\n",
        "        results.append(W)\n",
        "    return results\n",
        "\n",
        "train_p1(RMSProp, lr=0.3, epochs=30)"
      ],
      "metadata": {
        "colab": {
          "base_uri": "https://localhost:8080/"
        },
        "id": "bVsmlA-FxK4p",
        "outputId": "4af44218-22d8-403e-ef32-32dc50626075"
      },
      "execution_count": 47,
      "outputs": [
        {
          "output_type": "execute_result",
          "data": {
            "text/plain": [
              "[array([-5., -2.], dtype=float32),\n",
              " array([-4.0513197 , -1.05131708]),\n",
              " array([-3.43519553, -0.59152376]),\n",
              " array([-2.95893489, -0.3294397 ]),\n",
              " array([-2.56546089, -0.17756504]),\n",
              " array([-2.22920358, -0.09163272]),\n",
              " array([-1.93626564, -0.04494508]),\n",
              " array([-1.67817504, -0.02081429]),\n",
              " array([-1.44934809, -0.00903562]),\n",
              " array([-1.24588029, -0.00364592]),\n",
              " array([-1.06490135, -0.00135352]),\n",
              " array([-9.04200650e-01, -4.56447225e-04]),\n",
              " array([-7.61994932e-01, -1.37563947e-04]),\n",
              " array([-6.36776983e-01, -3.62604278e-05]),\n",
              " array([-5.27213771e-01, -8.11346375e-06]),\n",
              " array([-4.32077091e-01, -1.47475425e-06]),\n",
              " array([-3.50197152e-01, -2.02787524e-07]),\n",
              " array([-2.80433359e-01, -1.84235524e-08]),\n",
              " array([-2.21658617e-01, -7.67771777e-10]),\n",
              " array([-1.72754375e-01,  7.80432778e-12]),\n",
              " array([-1.32614084e-01, -5.05777072e-13]),\n",
              " array([-1.00152823e-01,  6.19098174e-14]),\n",
              " array([-7.43209130e-02, -1.13368674e-14]),\n",
              " array([-5.41193712e-02,  2.80153177e-15]),\n",
              " array([-3.86152607e-02, -8.81296300e-16]),\n",
              " array([-2.69552510e-02,  3.39903035e-16]),\n",
              " array([-1.83761024e-02, -1.56573095e-16]),\n",
              " array([-1.22112361e-02,  8.44946934e-17]),\n",
              " array([-7.89302368e-03, -5.26345869e-17]),\n",
              " array([-4.95087715e-03,  3.74085662e-17]),\n",
              " array([-3.00560338e-03, -3.00487798e-17])]"
            ]
          },
          "metadata": {},
          "execution_count": 47
        }
      ]
    },
    {
      "cell_type": "markdown",
      "source": [
        "Q4"
      ],
      "metadata": {
        "id": "AkzTisVcyWr_"
      }
    },
    {
      "cell_type": "code",
      "source": [
        "def df_w(W):\n",
        "    dw1 = 2 * W[0]\n",
        "    dw2 = 2 * W[1]\n",
        "    dW = np.array([dw1, dw2])\n",
        "    return dW\n",
        "\n",
        "def Adam(W, dW, lr, V, S, beta1, beta2, t):\n",
        "    epsilon = 1e-6\n",
        "    V = beta1 * V + (1 - beta1) * dW\n",
        "    S = beta2 * S + (1 - beta2) * (dW**2)\n",
        "    V_corrected = V / (1 - beta1**t)\n",
        "    S_corrected = S / (1 - beta2**t)\n",
        "    W = W - (lr / (np.sqrt(S_corrected) + epsilon)) * V_corrected\n",
        "    return W, V, S\n",
        "\n",
        "def train_p1(optimizer, lr, epochs):\n",
        "    W = np.array([-5, -2], dtype=np.float32)\n",
        "    V = np.array([0, 0], dtype=np.float32)\n",
        "    S = np.array([0, 0], dtype=np.float32)\n",
        "    results = [W]\n",
        "    for t in range(1, epochs + 1):\n",
        "        dW = df_w(W)\n",
        "        W, V, S = optimizer(W, dW, lr, V, S, beta1=0.9, beta2=0.999, t=t)\n",
        "        results.append(W)\n",
        "    return results\n",
        "\n",
        "train_p1(Adam, lr=0.2, epochs=30)"
      ],
      "metadata": {
        "colab": {
          "base_uri": "https://localhost:8080/"
        },
        "id": "Td99SGt8x7uK",
        "outputId": "d47fe908-8904-462d-ebde-c09a5f4f4dff"
      },
      "execution_count": 52,
      "outputs": [
        {
          "output_type": "execute_result",
          "data": {
            "text/plain": [
              "[array([-5., -2.], dtype=float32),\n",
              " array([-4.80000002, -1.80000005]),\n",
              " array([-4.60025442, -1.60082456]),\n",
              " array([-4.40094793, -1.4031727 ]),\n",
              " array([-4.2022769 , -1.20787833]),\n",
              " array([-4.0044494 , -1.01592758]),\n",
              " array([-3.80768526, -0.82847323]),\n",
              " array([-3.61221601, -0.64684178]),\n",
              " array([-3.41828472, -0.47252786]),\n",
              " array([-3.22614569, -0.30716958]),\n",
              " array([-3.03606402, -0.1524988 ]),\n",
              " array([-2.84831497, -0.01026352]),\n",
              " array([-2.66318316,  0.11787525]),\n",
              " array([-2.48096154,  0.23046135]),\n",
              " array([-2.30195015,  0.32635844]),\n",
              " array([-2.12645461,  0.4048417 ]),\n",
              " array([-1.95478434,  0.46564939]),\n",
              " array([-1.78725056,  0.50898781]),\n",
              " array([-1.62416397,  0.53549427]),\n",
              " array([-1.46583223,  0.54617132]),\n",
              " array([-1.31255712,  0.54230805]),\n",
              " array([-1.1646316 ,  0.52540203]),\n",
              " array([-1.0223366 ,  0.49709062]),\n",
              " array([-0.88593779,  0.45909517]),\n",
              " array([-0.75568226,  0.41317791]),\n",
              " array([-0.63179524,  0.36110905]),\n",
              " array([-0.51447691,  0.30464066]),\n",
              " array([-0.40389948,  0.2454843 ]),\n",
              " array([-0.30020445,  0.18528941]),\n",
              " array([-0.20350032,  0.12562099]),\n",
              " array([-0.11386069,  0.06793555])]"
            ]
          },
          "metadata": {},
          "execution_count": 52
        }
      ]
    }
  ]
}