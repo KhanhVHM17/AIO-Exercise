{
 "cells": [
  {
   "cell_type": "code",
   "execution_count": 1,
   "metadata": {},
   "outputs": [],
   "source": [
    "import torch\n",
    "import torch.nn as nn\n",
    "from abc import ABC, abstractmethod"
   ]
  },
  {
   "cell_type": "markdown",
   "metadata": {},
   "source": [
    "# Q1"
   ]
  },
  {
   "cell_type": "code",
   "execution_count": 2,
   "metadata": {},
   "outputs": [
    {
     "name": "stdout",
     "output_type": "stream",
     "text": [
      "tensor([0.0900, 0.2447, 0.6652])\n",
      "tensor([0.0900, 0.2447, 0.6652])\n"
     ]
    }
   ],
   "source": [
    "class Softmax(nn.Module):\n",
    "    def __init__(self):\n",
    "        super().__init__()\n",
    "    def forward(self, x):\n",
    "        exp_x = torch.exp(x)\n",
    "        return exp_x/torch.sum(exp_x)\n",
    "\n",
    "class SoftmaxStable(nn.Module):\n",
    "    def __init__(self):\n",
    "        super().__init__()\n",
    "    def forward(self, x):\n",
    "        max_x = torch.max(x)\n",
    "        exp_x = torch.exp(x-max_x)\n",
    "        return exp_x/torch.sum(exp_x)\n",
    "\n",
    "data = torch.Tensor([1, 2, 3])\n",
    "softmax = Softmax()\n",
    "output = softmax(data)\n",
    "print(output)\n",
    "\n",
    "data = torch.Tensor([1, 2, 3])\n",
    "softmax_stable = SoftmaxStable()\n",
    "output = softmax_stable(data)\n",
    "print(output)"
   ]
  },
  {
   "cell_type": "markdown",
   "metadata": {},
   "source": [
    "# Q2"
   ]
  },
  {
   "cell_type": "code",
   "execution_count": 3,
   "metadata": {},
   "outputs": [],
   "source": [
    "class Person(ABC):\n",
    "    def __init__(self, name: str, yob: int):\n",
    "        self.name = name\n",
    "        self.yob = yob\n",
    "\n",
    "    def get_yob(self):\n",
    "        return self.yob\n",
    "\n",
    "    @abstractmethod\n",
    "    def describe(self):\n",
    "        pass\n",
    "\n",
    "class Student(Person):\n",
    "    def __init__(self, name: str, yob: int, grade: str):\n",
    "        super().__init__(name, yob)\n",
    "        self.grade = grade\n",
    "    def describe(self):\n",
    "        print(f'Student - Name: {self.name} - YoB: {self.yob} - Grade: {self.grade}')\n",
    "\n",
    "class Teacher(Person):\n",
    "    def __init__(self, name: str, yob: int, subject: str):\n",
    "        super().__init__(name, yob)\n",
    "        self.subject = subject\n",
    "    def describe(self):\n",
    "        print(f'Teacher - Name: {self.name} - YoB: {self.yob} - Subject: {self.subject}')\n",
    "\n",
    "class Doctor(Person):\n",
    "    def __init__(self, name: str, yob: int, specialist: str):\n",
    "        super().__init__(name, yob)\n",
    "        self.specialist = specialist\n",
    "    def describe(self):\n",
    "        print(f'Doctor - Name: {self.name} - YoB: {self.yob} - specialist: {self.specialist}')\n",
    "\n",
    "class Ward:\n",
    "    def __init__(self, name: str):\n",
    "        self.name = name\n",
    "        self.peoplelist = list()\n",
    "\n",
    "    def add_person(self, person: Person):\n",
    "        self.peoplelist.append(person)\n",
    "\n",
    "    def describe(self):\n",
    "        print(f'Ward Name: {self.name}')\n",
    "        for i in self.peoplelist:\n",
    "            i.describe()\n",
    "\n",
    "    def count_doctor(self):\n",
    "        count = 0\n",
    "        for i in self.peoplelist:\n",
    "            if isinstance(i, Doctor):\n",
    "                count += 1\n",
    "        return count\n",
    "\n",
    "    def sort_age(self):\n",
    "        self.peoplelist.sort(key=lambda i: i.get_yob(), reverse=True)\n",
    "\n",
    "    def compute_average(self):\n",
    "        teachers = []\n",
    "        for i in self.peoplelist:\n",
    "            if isinstance(i, Teacher):\n",
    "                teachers.append(i.get_yob())\n",
    "        if len(teachers) == 0:\n",
    "            return 0\n",
    "        return sum(teachers)/len(teachers)"
   ]
  },
  {
   "cell_type": "markdown",
   "metadata": {},
   "source": [
    "Test case"
   ]
  },
  {
   "cell_type": "code",
   "execution_count": 4,
   "metadata": {},
   "outputs": [
    {
     "name": "stdout",
     "output_type": "stream",
     "text": [
      "2a:\n",
      "Student - Name: studentA - YoB: 2010 - Grade: 7\n",
      "Teacher - Name: teacherA - YoB: 1969 - Subject: Math\n",
      "Doctor - Name: doctorA - YoB: 1945 - specialist: Endocrinologists\n",
      "\n",
      "2b:\n",
      "Ward Name: Ward1\n",
      "Student - Name: studentA - YoB: 2010 - Grade: 7\n",
      "Teacher - Name: teacherA - YoB: 1969 - Subject: Math\n",
      "Teacher - Name: teacherB - YoB: 1995 - Subject: History\n",
      "Doctor - Name: doctorA - YoB: 1945 - specialist: Endocrinologists\n",
      "Doctor - Name: doctorB - YoB: 1975 - specialist: Cardiologists\n",
      "\n",
      "2c:\n",
      "Number of doctors: 2\n",
      "\n",
      "2d:\n",
      "After sorting Age of Ward1 people:\n",
      "Ward Name: Ward1\n",
      "Student - Name: studentA - YoB: 2010 - Grade: 7\n",
      "Teacher - Name: teacherB - YoB: 1995 - Subject: History\n",
      "Doctor - Name: doctorB - YoB: 1975 - specialist: Cardiologists\n",
      "Teacher - Name: teacherA - YoB: 1969 - Subject: Math\n",
      "Doctor - Name: doctorA - YoB: 1945 - specialist: Endocrinologists\n",
      "\n",
      "2e:\n",
      "Average year of birth (teachers): 1982.0\n"
     ]
    }
   ],
   "source": [
    "#2a\n",
    "print('2a:')\n",
    "student1 = Student(name='studentA', yob=2010, grade='7')\n",
    "student1.describe()\n",
    "teacher1 = Teacher(name='teacherA', yob=1969, subject='Math')\n",
    "teacher1.describe()\n",
    "doctor1 = Doctor(name='doctorA', yob=1945, specialist='Endocrinologists')\n",
    "doctor1.describe()\n",
    "\n",
    "#2b\n",
    "print('\\n2b:')\n",
    "teacher2 = Teacher(name='teacherB', yob=1995, subject='History')\n",
    "doctor2 = Doctor(name='doctorB', yob=1975, specialist='Cardiologists')\n",
    "ward1 = Ward(name ='Ward1')\n",
    "ward1.add_person(student1)\n",
    "ward1.add_person(teacher1)\n",
    "ward1.add_person(teacher2)\n",
    "ward1.add_person(doctor1)\n",
    "ward1.add_person(doctor2)\n",
    "ward1.describe()\n",
    "\n",
    "#2c\n",
    "print('\\n2c:')\n",
    "print(f'Number of doctors: {ward1.count_doctor()}')\n",
    "\n",
    "#2d\n",
    "print('\\n2d:')\n",
    "print('After sorting Age of Ward1 people:')\n",
    "ward1.sort_age()\n",
    "ward1.describe()\n",
    "\n",
    "#2e\n",
    "print('\\n2e:')\n",
    "print(f'Average year of birth (teachers): {ward1.compute_average()}')"
   ]
  },
  {
   "cell_type": "markdown",
   "metadata": {},
   "source": [
    "# Q3"
   ]
  },
  {
   "cell_type": "code",
   "execution_count": 5,
   "metadata": {},
   "outputs": [],
   "source": [
    "class Stack:\n",
    "    def __init__(self, capacity: int):\n",
    "        self.capacity = capacity\n",
    "        self.stack = []\n",
    "    \n",
    "    def is_empty(self):\n",
    "        return len(self.stack) == 0\n",
    "    \n",
    "    def is_full(self):\n",
    "        return len(self.stack) == self.capacity\n",
    "    \n",
    "    def pop(self):\n",
    "        if self.is_empty():\n",
    "            return 'Stack is empty'\n",
    "        pop_val = self.top()\n",
    "        self.stack.pop()\n",
    "        return pop_val\n",
    "\n",
    "    def push(self, value):\n",
    "        if self.is_full():\n",
    "            return 'Stack is full'\n",
    "        self.stack.append(value)\n",
    "\n",
    "    def top(self):\n",
    "        if self.is_empty():\n",
    "            return 'Stack is empty'\n",
    "        else:\n",
    "            return self.stack[-1]"
   ]
  },
  {
   "cell_type": "markdown",
   "metadata": {},
   "source": [
    "Test case"
   ]
  },
  {
   "cell_type": "code",
   "execution_count": 6,
   "metadata": {},
   "outputs": [
    {
     "name": "stdout",
     "output_type": "stream",
     "text": [
      "False\n",
      "2\n",
      "2\n",
      "1\n",
      "1\n",
      "True\n"
     ]
    }
   ],
   "source": [
    "stack1 = Stack(capacity=5)\n",
    "\n",
    "stack1.push(1)\n",
    "stack1.push(2)\n",
    "\n",
    "print(stack1.is_full())\n",
    "print(stack1.top())\n",
    "print(stack1.pop())\n",
    "print(stack1.top())\n",
    "print(stack1.pop())\n",
    "print(stack1.is_empty())"
   ]
  },
  {
   "cell_type": "markdown",
   "metadata": {},
   "source": [
    "# Q4"
   ]
  },
  {
   "cell_type": "code",
   "execution_count": 7,
   "metadata": {},
   "outputs": [],
   "source": [
    "class Queue:\n",
    "    def __init__(self, capacity: int):\n",
    "        self.capacity = capacity\n",
    "        self.queue = []\n",
    "\n",
    "    def is_empty(self):\n",
    "        return len(self.queue) == 0\n",
    "    \n",
    "    def is_full(self):\n",
    "        return len(self.queue) == self.capacity\n",
    "    \n",
    "    def dequeue(self):\n",
    "        if self.is_empty():\n",
    "            return 'Queue is empty'\n",
    "        dequeue_val = self.front()\n",
    "        self.queue.pop(0)\n",
    "        return dequeue_val\n",
    "    \n",
    "    def enqueue(self, value):\n",
    "        if self.is_full():\n",
    "            return 'Queue is full'\n",
    "        self.queue.append(value)\n",
    "\n",
    "    def front(self):\n",
    "        if self.is_empty():\n",
    "            return 'Queue is empty'\n",
    "        return self.queue[0]"
   ]
  },
  {
   "cell_type": "markdown",
   "metadata": {},
   "source": [
    "Test case"
   ]
  },
  {
   "cell_type": "code",
   "execution_count": 8,
   "metadata": {},
   "outputs": [
    {
     "name": "stdout",
     "output_type": "stream",
     "text": [
      "False\n",
      "1\n",
      "1\n",
      "2\n",
      "2\n",
      "True\n"
     ]
    }
   ],
   "source": [
    "queue1 = Queue(capacity=5)\n",
    "\n",
    "queue1.enqueue(1)\n",
    "queue1.enqueue(2)\n",
    "\n",
    "print(queue1.is_full())\n",
    "print(queue1.front())\n",
    "print(queue1.dequeue())\n",
    "print(queue1.front())\n",
    "print(queue1.dequeue())\n",
    "print(queue1.is_empty())"
   ]
  },
  {
   "cell_type": "markdown",
   "metadata": {},
   "source": [
    "# Multiple choice"
   ]
  },
  {
   "cell_type": "markdown",
   "metadata": {},
   "source": [
    "Q1"
   ]
  },
  {
   "cell_type": "code",
   "execution_count": 9,
   "metadata": {},
   "outputs": [
    {
     "data": {
      "text/plain": [
       "tensor([0.0900, 0.2447, 0.6652])"
      ]
     },
     "execution_count": 9,
     "metadata": {},
     "output_type": "execute_result"
    }
   ],
   "source": [
    "data = torch.Tensor([1, 2, 3])\n",
    "softmax_function = nn.Softmax(dim=0)\n",
    "output = softmax_function(data)\n",
    "assert round(output[0].item(), 2) == 0.09\n",
    "output"
   ]
  },
  {
   "cell_type": "markdown",
   "metadata": {},
   "source": [
    "Q2"
   ]
  },
  {
   "cell_type": "code",
   "execution_count": 10,
   "metadata": {},
   "outputs": [
    {
     "name": "stdout",
     "output_type": "stream",
     "text": [
      "tensor([0.7054, 0.0351, 0.2595])\n"
     ]
    }
   ],
   "source": [
    "data = torch.Tensor([5, 2, 4])\n",
    "my_softmax = Softmax()\n",
    "output = my_softmax(data)\n",
    "assert round(output[-1].item(), 2) == 0.26\n",
    "print(output)"
   ]
  },
  {
   "cell_type": "markdown",
   "metadata": {},
   "source": [
    "Q3"
   ]
  },
  {
   "cell_type": "code",
   "execution_count": 11,
   "metadata": {},
   "outputs": [
    {
     "name": "stdout",
     "output_type": "stream",
     "text": [
      "tensor([0., 0., nan])\n"
     ]
    }
   ],
   "source": [
    "data = torch.Tensor([1, 2, 300000000])\n",
    "my_softmax = Softmax()\n",
    "output = my_softmax(data)\n",
    "assert round(output[0].item(), 2) == 0.0\n",
    "print(output)"
   ]
  },
  {
   "cell_type": "markdown",
   "metadata": {},
   "source": [
    "Q4"
   ]
  },
  {
   "cell_type": "code",
   "execution_count": 12,
   "metadata": {},
   "outputs": [
    {
     "name": "stdout",
     "output_type": "stream",
     "text": [
      "tensor([0.0900, 0.2447, 0.6652])\n"
     ]
    }
   ],
   "source": [
    "data = torch.Tensor([1, 2, 3])\n",
    "softmax_stable = SoftmaxStable()\n",
    "output = softmax_stable(data)\n",
    "assert round(output[-1].item(), 2) == 0.67\n",
    "print(output)"
   ]
  },
  {
   "cell_type": "markdown",
   "metadata": {},
   "source": [
    "Q5"
   ]
  },
  {
   "cell_type": "code",
   "execution_count": 13,
   "metadata": {},
   "outputs": [
    {
     "name": "stdout",
     "output_type": "stream",
     "text": [
      "Student - Name: studentZ2023 - YoB: 2011 - Grade: 6\n"
     ]
    }
   ],
   "source": [
    "student1 = Student(name ='studentZ2023', yob =2011, grade ='6')\n",
    "assert student1.yob == 2011\n",
    "student1.describe ()"
   ]
  },
  {
   "cell_type": "markdown",
   "metadata": {},
   "source": [
    "Q6"
   ]
  },
  {
   "cell_type": "code",
   "execution_count": 14,
   "metadata": {},
   "outputs": [
    {
     "name": "stdout",
     "output_type": "stream",
     "text": [
      "Teacher - Name: teacherZ2023 - YoB: 1991 - Subject: History\n"
     ]
    }
   ],
   "source": [
    "teacher1 = Teacher(name='teacherZ2023', yob=1991, subject='History')\n",
    "assert teacher1.yob == 1991\n",
    "teacher1.describe()"
   ]
  },
  {
   "cell_type": "markdown",
   "metadata": {},
   "source": [
    "Q7"
   ]
  },
  {
   "cell_type": "code",
   "execution_count": 15,
   "metadata": {},
   "outputs": [
    {
     "name": "stdout",
     "output_type": "stream",
     "text": [
      "Doctor - Name: doctorZ2023 - YoB: 1981 - specialist: Endocrinologists\n"
     ]
    }
   ],
   "source": [
    "doctor1 = Doctor(name='doctorZ2023', yob=1981, specialist='Endocrinologists')\n",
    "assert doctor1.yob == 1981\n",
    "doctor1.describe()"
   ]
  },
  {
   "cell_type": "markdown",
   "metadata": {},
   "source": [
    "Q8"
   ]
  },
  {
   "cell_type": "code",
   "execution_count": 16,
   "metadata": {},
   "outputs": [
    {
     "data": {
      "text/plain": [
       "2"
      ]
     },
     "execution_count": 16,
     "metadata": {},
     "output_type": "execute_result"
    }
   ],
   "source": [
    "student1 = Student(name='studentA', yob=2010, grade='7')\n",
    "teacher1 = Teacher(name='teacherA', yob=1969, subject='Math')\n",
    "teacher2 = Teacher(name='teacherB', yob=1995, subject='History')\n",
    "doctor1 = Doctor(name='doctorA', yob=1945, specialist='Endocrinologists')\n",
    "doctor2 = Doctor(name='doctorB', yob=1975, specialist='Cardiologists')\n",
    "ward1 = Ward(name='Ward1')\n",
    "ward1.add_person(student1)\n",
    "ward1.add_person(teacher1)\n",
    "ward1.add_person(teacher2)\n",
    "ward1.add_person(doctor1)\n",
    "assert ward1.count_doctor() == 1\n",
    "ward1.add_person(doctor2)\n",
    "ward1.count_doctor()"
   ]
  },
  {
   "cell_type": "markdown",
   "metadata": {},
   "source": [
    "Q9"
   ]
  },
  {
   "cell_type": "code",
   "execution_count": 17,
   "metadata": {},
   "outputs": [
    {
     "name": "stdout",
     "output_type": "stream",
     "text": [
      "False\n"
     ]
    }
   ],
   "source": [
    "stack1 = Stack(capacity=5)\n",
    "stack1.push(1)\n",
    "assert stack1.is_full() == False\n",
    "stack1.push(2)\n",
    "print(stack1.is_full())"
   ]
  },
  {
   "cell_type": "markdown",
   "metadata": {},
   "source": [
    "Q10"
   ]
  },
  {
   "cell_type": "code",
   "execution_count": 18,
   "metadata": {},
   "outputs": [
    {
     "name": "stdout",
     "output_type": "stream",
     "text": [
      "2\n"
     ]
    }
   ],
   "source": [
    "stack1 = Stack(capacity=5)\n",
    "stack1.push(1)\n",
    "assert stack1.is_full() == False\n",
    "stack1.push(2)\n",
    "print(stack1.top())"
   ]
  },
  {
   "cell_type": "markdown",
   "metadata": {},
   "source": [
    "Q11"
   ]
  },
  {
   "cell_type": "code",
   "execution_count": 19,
   "metadata": {},
   "outputs": [
    {
     "name": "stdout",
     "output_type": "stream",
     "text": [
      "False\n"
     ]
    }
   ],
   "source": [
    "queue1 = Queue(capacity=5)\n",
    "queue1.enqueue(1)\n",
    "assert queue1.is_full() == False\n",
    "queue1.enqueue(2)\n",
    "print(queue1.is_full())"
   ]
  },
  {
   "cell_type": "markdown",
   "metadata": {},
   "source": [
    "Q12"
   ]
  },
  {
   "cell_type": "code",
   "execution_count": 20,
   "metadata": {},
   "outputs": [
    {
     "name": "stdout",
     "output_type": "stream",
     "text": [
      "1\n"
     ]
    }
   ],
   "source": [
    "queue1 = Queue(capacity=5)\n",
    "queue1.enqueue(1)\n",
    "assert queue1.is_full() == False\n",
    "queue1.enqueue(2)\n",
    "print(queue1.front())"
   ]
  },
  {
   "cell_type": "code",
   "execution_count": null,
   "metadata": {},
   "outputs": [],
   "source": []
  }
 ],
 "metadata": {
  "kernelspec": {
   "display_name": "fptu",
   "language": "python",
   "name": "python3"
  },
  "language_info": {
   "codemirror_mode": {
    "name": "ipython",
    "version": 3
   },
   "file_extension": ".py",
   "mimetype": "text/x-python",
   "name": "python",
   "nbconvert_exporter": "python",
   "pygments_lexer": "ipython3",
   "version": "3.8.19"
  }
 },
 "nbformat": 4,
 "nbformat_minor": 2
}
